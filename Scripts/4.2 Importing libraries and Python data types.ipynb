{
 "cells": [
  {
   "cell_type": "markdown",
   "id": "7fa3368d",
   "metadata": {},
   "source": [
    "## 01. Importing Libraries"
   ]
  },
  {
   "cell_type": "code",
   "execution_count": null,
   "id": "3417d147",
   "metadata": {},
   "outputs": [],
   "source": [
    "# Import Libraries\n",
    "import pandas as pd\n",
    "import numpy as np\n",
    "import os"
   ]
  },
  {
   "cell_type": "markdown",
   "id": "0f204a84",
   "metadata": {},
   "source": [
    "## 02. Datatypes"
   ]
  },
  {
   "cell_type": "code",
   "execution_count": null,
   "id": "b2809096",
   "metadata": {},
   "outputs": [],
   "source": [
    "# Attaining a value of 100 using various methods:"
   ]
  },
  {
   "cell_type": "code",
   "execution_count": null,
   "id": "12eb6ebc",
   "metadata": {},
   "outputs": [],
   "source": [
    "25+75"
   ]
  },
  {
   "cell_type": "code",
   "execution_count": null,
   "id": "1b6b6c17",
   "metadata": {},
   "outputs": [],
   "source": [
    "27800-27700"
   ]
  },
  {
   "cell_type": "code",
   "execution_count": null,
   "id": "98ecc4cf",
   "metadata": {},
   "outputs": [],
   "source": [
    "(925-900)+175-100"
   ]
  },
  {
   "cell_type": "code",
   "execution_count": null,
   "id": "7f70fab5",
   "metadata": {},
   "outputs": [],
   "source": [
    "# Code 2 floating point variables and divide them by each other"
   ]
  },
  {
   "cell_type": "code",
   "execution_count": null,
   "id": "e37d98da",
   "metadata": {},
   "outputs": [],
   "source": [
    "a = 9.33"
   ]
  },
  {
   "cell_type": "code",
   "execution_count": null,
   "id": "eddc9a7c",
   "metadata": {},
   "outputs": [],
   "source": [
    "b = 1.03"
   ]
  },
  {
   "cell_type": "code",
   "execution_count": null,
   "id": "90bcd148",
   "metadata": {},
   "outputs": [],
   "source": [
    "a/b"
   ]
  },
  {
   "cell_type": "code",
   "execution_count": null,
   "id": "1365ffff",
   "metadata": {},
   "outputs": [],
   "source": [
    "# Concatenate a few words"
   ]
  },
  {
   "cell_type": "code",
   "execution_count": null,
   "id": "7c5b2a4f",
   "metadata": {},
   "outputs": [],
   "source": [
    "c = 'Hello There... '"
   ]
  },
  {
   "cell_type": "code",
   "execution_count": null,
   "id": "c062a715",
   "metadata": {},
   "outputs": [],
   "source": [
    "d = 'General Kenobi'"
   ]
  },
  {
   "cell_type": "code",
   "execution_count": null,
   "id": "3f5fd9b7",
   "metadata": {},
   "outputs": [],
   "source": [
    "c+d"
   ]
  },
  {
   "cell_type": "code",
   "execution_count": null,
   "id": "2322f93f",
   "metadata": {},
   "outputs": [],
   "source": [
    "# Bonus make a string appear 100 times"
   ]
  },
  {
   "cell_type": "code",
   "execution_count": null,
   "id": "b6e8fa53",
   "metadata": {},
   "outputs": [],
   "source": [
    "e = 'omglolnowai-'"
   ]
  },
  {
   "cell_type": "code",
   "execution_count": null,
   "id": "79be3b95",
   "metadata": {},
   "outputs": [],
   "source": [
    "e*100"
   ]
  },
  {
   "cell_type": "code",
   "execution_count": null,
   "id": "6996bccf",
   "metadata": {},
   "outputs": [],
   "source": []
  }
 ],
 "metadata": {
  "kernelspec": {
   "display_name": "Python 3 (ipykernel)",
   "language": "python",
   "name": "python3"
  },
  "language_info": {
   "codemirror_mode": {
    "name": "ipython",
    "version": 3
   },
   "file_extension": ".py",
   "mimetype": "text/x-python",
   "name": "python",
   "nbconvert_exporter": "python",
   "pygments_lexer": "ipython3",
   "version": "3.11.4"
  }
 },
 "nbformat": 4,
 "nbformat_minor": 5
}
